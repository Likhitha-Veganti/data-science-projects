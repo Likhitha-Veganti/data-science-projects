{
 "cells": [
  {
   "cell_type": "code",
   "execution_count": 1,
   "id": "a67161ea",
   "metadata": {},
   "outputs": [],
   "source": [
    "import random"
   ]
  },
  {
   "cell_type": "code",
   "execution_count": 2,
   "id": "d6383fb8",
   "metadata": {},
   "outputs": [],
   "source": [
    "def printing():\n",
    "    print(\"Player wins:\",d['p'],\"\\nComputer wins:\",d['c'],\"\\nTies:\",d['t'])"
   ]
  },
  {
   "cell_type": "code",
   "execution_count": 3,
   "id": "a2ca53e1",
   "metadata": {},
   "outputs": [],
   "source": [
    "def rps(p,c):\n",
    "    if(p == c):\n",
    "        d['t']+=1\n",
    "        print(\"It is a tie!\")\n",
    "        printing()\n",
    "    elif(p == 'rock' and c =='paper'):\n",
    "        d['c']+=1\n",
    "        print(\"Computer won!\")\n",
    "        printing()\n",
    "    elif(p == 'rock' and c == 'scissor'):\n",
    "        d['p']+=1\n",
    "        print(\"Player won!\")\n",
    "        printing()\n",
    "    elif(p == 'paper' and c == 'rock'):\n",
    "        d['p']+=1\n",
    "        print(\"Player won!\")\n",
    "        printing()\n",
    "    elif(p == 'paper' and c == 'scissor'):\n",
    "        d['c']+=1\n",
    "        print(\"Computer won!\")\n",
    "        printing()\n",
    "    elif(p == 'scissor' and c== 'rock'):\n",
    "        d['c']+=1\n",
    "        print(\"Computer won!\")\n",
    "        printing()\n",
    "    else:\n",
    "        d['p']+=1\n",
    "        print(\"Player won!\")\n",
    "        printing()"
   ]
  },
  {
   "cell_type": "code",
   "execution_count": 4,
   "id": "708306a1",
   "metadata": {},
   "outputs": [
    {
     "name": "stdout",
     "output_type": "stream",
     "text": [
      "Welcome to Rock Paper Scissors!\n",
      "Enter the number of rounds to play, from 1 to 9: 10\n",
      "Invalid input! Enter correct input, from 1 to 9: 3\n",
      "---------------------------\n",
      "Round  1\n",
      "Enter your choice: goku\n",
      "Invalid input! Enter correct value: paper\n",
      "Computer choice is:  paper\n",
      "It is a tie!\n",
      "Player wins: 0 \n",
      "Computer wins: 0 \n",
      "Ties: 1\n",
      "---------------------------\n",
      "Round  2\n",
      "Enter your choice: rock\n",
      "Computer choice is:  paper\n",
      "Computer won!\n",
      "Player wins: 0 \n",
      "Computer wins: 1 \n",
      "Ties: 1\n",
      "---------------------------\n",
      "Round  3\n",
      "Enter your choice: rock\n",
      "Computer choice is:  paper\n",
      "Computer won!\n",
      "Player wins: 0 \n",
      "Computer wins: 2 \n",
      "Ties: 1\n",
      "\n",
      "The computer is the winner!\n",
      "Player wins: 0 \n",
      "Computer wins: 2 \n",
      "Ties: 1\n"
     ]
    }
   ],
   "source": [
    "n = int(input(\"Welcome to Rock Paper Scissors!\\nEnter the number of rounds to play, from 1 to 9: \"))\n",
    "while(n not in range(1,10)):\n",
    "    n = int(input(\"Invalid input! Enter correct input, from 1 to 9: \"))\n",
    "        \n",
    "        \n",
    "values = ['rock','paper','scissor']\n",
    "d = {'p':0, 'c':0, 't':0}\n",
    "\n",
    "\n",
    "for i in range(1,n+1):\n",
    "    if(d['p'] > n//2):\n",
    "        break\n",
    "    elif(d['c'] > n//2):\n",
    "        break\n",
    "    else:\n",
    "        print('---------------------------\\nRound ',i)\n",
    "        p = input(\"Enter your choice: \")\n",
    "        while(p not in values):\n",
    "            p = input(\"Invalid input! Enter correct value: \")\n",
    "        c = random.choice(values)\n",
    "        print(\"Computer choice is: \",c)\n",
    "        rps(p,c) \n",
    "\n",
    "\n",
    "if(d['p']==d['c']):\n",
    "    print(\"\\nThe game is a tie!\")\n",
    "    printing()\n",
    "elif(d['p']>d['c']):\n",
    "    print(\"\\nThe player is the winner!\")\n",
    "    printing()\n",
    "else:\n",
    "    print(\"\\nThe computer is the winner!\")\n",
    "    printing()"
   ]
  }
 ],
 "metadata": {
  "kernelspec": {
   "display_name": "Python 3 (ipykernel)",
   "language": "python",
   "name": "python3"
  },
  "language_info": {
   "codemirror_mode": {
    "name": "ipython",
    "version": 3
   },
   "file_extension": ".py",
   "mimetype": "text/x-python",
   "name": "python",
   "nbconvert_exporter": "python",
   "pygments_lexer": "ipython3",
   "version": "3.9.12"
  }
 },
 "nbformat": 4,
 "nbformat_minor": 5
}
