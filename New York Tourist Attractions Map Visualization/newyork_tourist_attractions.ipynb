{
 "cells": [
  {
   "cell_type": "markdown",
   "id": "48d93c5b",
   "metadata": {},
   "source": [
    "Using any data set you like, make a visualization that includes a map showing something interesting to you. Your plot should be clearly titled with a goal or question, should be styled intentionally and labeled clearly, and should be sized appropriately to fit the page. You should include a small (one paragraph) description of your design choices and why they are effective, expressive, and fit the context of the data."
   ]
  },
  {
   "cell_type": "code",
   "execution_count": 1,
   "id": "ca6b5042",
   "metadata": {},
   "outputs": [],
   "source": [
    "import pandas as pd\n",
    "import altair as alt\n",
    "import geopandas as gpd\n",
    "import osmnx as ox\n",
    "import folium\n",
    "from folium import plugins\n",
    "from vega_datasets import data\n",
    "import addfips\n",
    "af = addfips.AddFIPS()"
   ]
  },
  {
   "cell_type": "code",
   "execution_count": 2,
   "id": "bc84f3dc",
   "metadata": {},
   "outputs": [],
   "source": [
    "newyork = ox.geocode_to_gdf('R175905', by_osmid = True)"
   ]
  },
  {
   "cell_type": "code",
   "execution_count": 3,
   "id": "78023ddc",
   "metadata": {
    "scrolled": true
   },
   "outputs": [],
   "source": [
    "# Public Transport -> blue, bus (icon)\n",
    "transport1 = ox.features_from_polygon(newyork[\"geometry\"].iloc[0], tags={\"public_transport\":['platform']})\n",
    "transport1 = gpd.GeoDataFrame.from_features(transport1)\n",
    "\n",
    "transport1 = transport1[transport1.geom_type == 'Point']\n",
    "transport1['lon']=transport1['geometry'].x\n",
    "transport1['lat']=transport1['geometry'].y"
   ]
  },
  {
   "cell_type": "code",
   "execution_count": 4,
   "id": "2b9aca84",
   "metadata": {},
   "outputs": [
    {
     "name": "stderr",
     "output_type": "stream",
     "text": [
      "/Users/likhithaveganti/anaconda3/lib/python3.10/site-packages/geopandas/geodataframe.py:1543: SettingWithCopyWarning: \n",
      "A value is trying to be set on a copy of a slice from a DataFrame.\n",
      "Try using .loc[row_indexer,col_indexer] = value instead\n",
      "\n",
      "See the caveats in the documentation: https://pandas.pydata.org/pandas-docs/stable/user_guide/indexing.html#returning-a-view-versus-a-copy\n",
      "  super().__setitem__(key, value)\n",
      "/Users/likhithaveganti/anaconda3/lib/python3.10/site-packages/geopandas/geodataframe.py:1543: SettingWithCopyWarning: \n",
      "A value is trying to be set on a copy of a slice from a DataFrame.\n",
      "Try using .loc[row_indexer,col_indexer] = value instead\n",
      "\n",
      "See the caveats in the documentation: https://pandas.pydata.org/pandas-docs/stable/user_guide/indexing.html#returning-a-view-versus-a-copy\n",
      "  super().__setitem__(key, value)\n"
     ]
    }
   ],
   "source": [
    "# General attractions for NewYork. Animal -> red, paw (icon), Artwork -> red, paintbrush(icon)\n",
    "attractions = ox.features_from_polygon(newyork[\"geometry\"].iloc[0], tags={\"tourism\":['attraction']})\n",
    "attractions = gpd.GeoDataFrame.from_features(attractions)\n",
    "\n",
    "attractionpts = attractions[attractions.geom_type == 'Point']\n",
    "attractionpts['lon']=attractionpts['geometry'].x\n",
    "attractionpts['lat']=attractionpts['geometry'].y"
   ]
  },
  {
   "cell_type": "code",
   "execution_count": 5,
   "id": "132c8f50",
   "metadata": {},
   "outputs": [
    {
     "name": "stderr",
     "output_type": "stream",
     "text": [
      "/Users/likhithaveganti/anaconda3/lib/python3.10/site-packages/geopandas/geodataframe.py:1543: SettingWithCopyWarning: \n",
      "A value is trying to be set on a copy of a slice from a DataFrame.\n",
      "Try using .loc[row_indexer,col_indexer] = value instead\n",
      "\n",
      "See the caveats in the documentation: https://pandas.pydata.org/pandas-docs/stable/user_guide/indexing.html#returning-a-view-versus-a-copy\n",
      "  super().__setitem__(key, value)\n",
      "/Users/likhithaveganti/anaconda3/lib/python3.10/site-packages/geopandas/geodataframe.py:1543: SettingWithCopyWarning: \n",
      "A value is trying to be set on a copy of a slice from a DataFrame.\n",
      "Try using .loc[row_indexer,col_indexer] = value instead\n",
      "\n",
      "See the caveats in the documentation: https://pandas.pydata.org/pandas-docs/stable/user_guide/indexing.html#returning-a-view-versus-a-copy\n",
      "  super().__setitem__(key, value)\n"
     ]
    }
   ],
   "source": [
    "# hotels -> grey, building (icon)\n",
    "attractions1 = ox.features_from_polygon(newyork[\"geometry\"].iloc[0], tags={\"tourism\":['hotel']})\n",
    "attractions1 = gpd.GeoDataFrame.from_features(attractions1)\n",
    "\n",
    "attractionpts1 = attractions1[attractions1.geom_type == 'Point']\n",
    "attractionpts1['lon']=attractionpts1['geometry'].x\n",
    "attractionpts1['lat']=attractionpts1['geometry'].y"
   ]
  },
  {
   "cell_type": "code",
   "execution_count": 6,
   "id": "f65ae68f",
   "metadata": {},
   "outputs": [
    {
     "name": "stderr",
     "output_type": "stream",
     "text": [
      "/Users/likhithaveganti/anaconda3/lib/python3.10/site-packages/geopandas/geodataframe.py:1543: SettingWithCopyWarning: \n",
      "A value is trying to be set on a copy of a slice from a DataFrame.\n",
      "Try using .loc[row_indexer,col_indexer] = value instead\n",
      "\n",
      "See the caveats in the documentation: https://pandas.pydata.org/pandas-docs/stable/user_guide/indexing.html#returning-a-view-versus-a-copy\n",
      "  super().__setitem__(key, value)\n",
      "/Users/likhithaveganti/anaconda3/lib/python3.10/site-packages/geopandas/geodataframe.py:1543: SettingWithCopyWarning: \n",
      "A value is trying to be set on a copy of a slice from a DataFrame.\n",
      "Try using .loc[row_indexer,col_indexer] = value instead\n",
      "\n",
      "See the caveats in the documentation: https://pandas.pydata.org/pandas-docs/stable/user_guide/indexing.html#returning-a-view-versus-a-copy\n",
      "  super().__setitem__(key, value)\n"
     ]
    }
   ],
   "source": [
    "# Gallery -> red, paint-brush(icon)\n",
    "attractions2 = ox.features_from_polygon(newyork[\"geometry\"].iloc[0], tags={\"tourism\":['gallery']})\n",
    "attractions2 = gpd.GeoDataFrame.from_features(attractions2)\n",
    "\n",
    "attractionpts2 = attractions2[attractions2.geom_type == 'Point']\n",
    "attractionpts2['lon']=attractionpts2['geometry'].x\n",
    "attractionpts2['lat']=attractionpts2['geometry'].y"
   ]
  },
  {
   "cell_type": "code",
   "execution_count": 7,
   "id": "47ddd6cf",
   "metadata": {},
   "outputs": [
    {
     "name": "stderr",
     "output_type": "stream",
     "text": [
      "/Users/likhithaveganti/anaconda3/lib/python3.10/site-packages/geopandas/geodataframe.py:1543: SettingWithCopyWarning: \n",
      "A value is trying to be set on a copy of a slice from a DataFrame.\n",
      "Try using .loc[row_indexer,col_indexer] = value instead\n",
      "\n",
      "See the caveats in the documentation: https://pandas.pydata.org/pandas-docs/stable/user_guide/indexing.html#returning-a-view-versus-a-copy\n",
      "  super().__setitem__(key, value)\n",
      "/Users/likhithaveganti/anaconda3/lib/python3.10/site-packages/geopandas/geodataframe.py:1543: SettingWithCopyWarning: \n",
      "A value is trying to be set on a copy of a slice from a DataFrame.\n",
      "Try using .loc[row_indexer,col_indexer] = value instead\n",
      "\n",
      "See the caveats in the documentation: https://pandas.pydata.org/pandas-docs/stable/user_guide/indexing.html#returning-a-view-versus-a-copy\n",
      "  super().__setitem__(key, value)\n"
     ]
    }
   ],
   "source": [
    "# Viewpoint -> red, person-walking (icon)\n",
    "attractions3 = ox.features_from_polygon(newyork[\"geometry\"].iloc[0], tags={\"tourism\":['viewpoint']})\n",
    "attractions3 = gpd.GeoDataFrame.from_features(attractions3)\n",
    "\n",
    "attractionpts3 = attractions3[attractions3.geom_type == 'Point']\n",
    "attractionpts3['lon']=attractionpts3['geometry'].x\n",
    "attractionpts3['lat']=attractionpts3['geometry'].y"
   ]
  },
  {
   "cell_type": "code",
   "execution_count": 8,
   "id": "db69b791",
   "metadata": {},
   "outputs": [
    {
     "name": "stderr",
     "output_type": "stream",
     "text": [
      "/Users/likhithaveganti/anaconda3/lib/python3.10/site-packages/geopandas/geodataframe.py:1543: SettingWithCopyWarning: \n",
      "A value is trying to be set on a copy of a slice from a DataFrame.\n",
      "Try using .loc[row_indexer,col_indexer] = value instead\n",
      "\n",
      "See the caveats in the documentation: https://pandas.pydata.org/pandas-docs/stable/user_guide/indexing.html#returning-a-view-versus-a-copy\n",
      "  super().__setitem__(key, value)\n",
      "/Users/likhithaveganti/anaconda3/lib/python3.10/site-packages/geopandas/geodataframe.py:1543: SettingWithCopyWarning: \n",
      "A value is trying to be set on a copy of a slice from a DataFrame.\n",
      "Try using .loc[row_indexer,col_indexer] = value instead\n",
      "\n",
      "See the caveats in the documentation: https://pandas.pydata.org/pandas-docs/stable/user_guide/indexing.html#returning-a-view-versus-a-copy\n",
      "  super().__setitem__(key, value)\n"
     ]
    }
   ],
   "source": [
    "# Zoo -> red, paw (icon)\n",
    "attractions4 = ox.features_from_polygon(newyork[\"geometry\"].iloc[0], tags={\"tourism\":['zoo']})\n",
    "attractions4 = gpd.GeoDataFrame.from_features(attractions4)\n",
    "\n",
    "attractionpts4 = attractions4[attractions4.geom_type == 'Point']\n",
    "attractionpts4['lon']=attractionpts4['geometry'].x\n",
    "attractionpts4['lat']=attractionpts4['geometry'].y"
   ]
  },
  {
   "cell_type": "code",
   "execution_count": 9,
   "id": "577cae3d",
   "metadata": {
    "scrolled": false
   },
   "outputs": [],
   "source": [
    "m = folium.Map(location=[40.74, -73.9], tiles='cartodbpositron', \n",
    "               zoom_start=10, control_scale=True, margin = (50,50,100,100))\n",
    "\n",
    "marker_cluster = plugins.MarkerCluster().add_to(m)\n",
    "\n",
    "for idx, row in attractionpts.iterrows():\n",
    "    lon = row['lon']\n",
    "    lat = row['lat']\n",
    "    name = row['name']\n",
    "    attraction = row['attraction']\n",
    "    \n",
    "    if attraction is not None:        \n",
    "        if 'animal' in attraction.lower():\n",
    "            icon = folium.Icon(icon = 'paw', color = 'red',prefix = 'fa')\n",
    "            folium.Marker(location=[lat, lon], icon = icon, tooltip = name).add_to(m)   \n",
    "            \n",
    "        elif 'artwork' in attraction.lower():\n",
    "            icon = folium.Icon(icon = 'paint-brush', color = 'red',prefix = 'fa')           \n",
    "            folium.Marker(location=[lat, lon], icon = icon, tooltip = name).add_to(m)\n",
    "            \n",
    "        elif 'big_wheel' in attraction.lower():\n",
    "            icon = folium.Icon(icon = 'dharmachakra', color = 'red',prefix = 'fa')\n",
    "            folium.Marker(location=[lat, lon], icon = icon, tooltip = name).add_to(m)\n",
    "            \n",
    "        elif 'carousel' in attraction.lower():\n",
    "            icon = folium.Icon(icon = 'person-walking', color = 'red',prefix = 'fa')\n",
    "            folium.Marker(location=[lat, lon], icon = icon, tooltip = name).add_to(m)\n",
    "\n",
    "for idx, row in transport1.iterrows():\n",
    "    lon = row['lon']\n",
    "    lat = row['lat']\n",
    "    name = row['name']\n",
    "    icon = folium.Icon(icon = 'bus', color = 'blue', prefix = 'fa')\n",
    "    folium.Marker(location=[lat, lon], tooltip=name, icon = icon, popup =name).add_to(m).add_to(marker_cluster)\n",
    "    \n",
    "\n",
    "for idx, row in attractionpts1.iterrows():\n",
    "    lon = row['lon']\n",
    "    lat = row['lat']\n",
    "    name = row['name']\n",
    "    icon = folium.Icon(icon = 'building', color = 'gray', prefix = 'fa')\n",
    "    folium.Marker(location=[lat, lon], tooltip=name, icon = icon, popup =name).add_to(m).add_to(marker_cluster)\n",
    "\n",
    "for idx, row in attractionpts2.iterrows():\n",
    "    lon = row['lon']\n",
    "    lat = row['lat']\n",
    "    name = row['name']\n",
    "    icon = folium.Icon(icon = 'paint-brush', color = 'red', prefix = 'fa')\n",
    "    folium.Marker(location=[lat, lon], tooltip=name, icon = icon, popup =name).add_to(m).add_to(marker_cluster)\n",
    "    \n",
    "for idx, row in attractionpts3.iterrows():\n",
    "    lon = row['lon']\n",
    "    lat = row['lat']\n",
    "    name = row['name']\n",
    "    icon = folium.Icon(icon = 'person-walking', color = 'red', prefix = 'fa')\n",
    "    folium.Marker(location=[lat, lon], tooltip=name,icon = icon, popup =name).add_to(m).add_to(marker_cluster)\n",
    "\n",
    "for idx, row in attractionpts4.iterrows():\n",
    "    lon = row['lon']\n",
    "    lat = row['lat']\n",
    "    name = row['name']\n",
    "    icon = folium.Icon(icon = 'paw', color = 'red', prefix = 'fa')  \n",
    "    folium.Marker(location=[lat, lon], tooltip=name, icon = icon, popup =name).add_to(m).add_to(marker_cluster)\n",
    "\n",
    "# Add title to the map\n",
    "title_html = '''\n",
    "             <h3 align=\"center\" style=\"font-size:20px\"><b>Exploring Tourist Attractions in New York City</b></h3>\n",
    "             '''\n",
    "m.get_root().html.add_child(folium.Element(title_html))\n",
    "\n",
    "# Add legend\n",
    "legend_html = '''\n",
    "                <div style=\"position: fixed; \n",
    "                             bottom: 150px; right: 50px; width: 200px; height: 120px; \n",
    "                             border:2px solid grey; z-index:9999; font-size:14px;\n",
    "                             background-color:white;\n",
    "                             \">\n",
    "                   <p style=\"margin:5px\">&nbsp;<i class=\"fa fa-map-marker fa-2x\" style=\"color:red\"></i>&nbsp;&nbsp;Tourist Attractions</p>\n",
    "                   <p style=\"margin:5px\">&nbsp;<i class=\"fa fa-bus fa-2x\" style=\"color:blue\"></i>&nbsp;&nbsp;Public Transport</p>\n",
    "                   <p style=\"margin:5px\">&nbsp;<i class=\"fa fa-building fa-2x\" style=\"color:gray\"></i>&nbsp;&nbsp;Hotels</p>\n",
    "                </div>\n",
    "             '''\n",
    "m.get_root().html.add_child(folium.Element(legend_html))\n",
    "\n",
    "# Save the HTML file\n",
    "outfp = \"newyork_tourist_attractions.html\"\n",
    "m.save(outfp)"
   ]
  }
 ],
 "metadata": {
  "kernelspec": {
   "display_name": "Python 3 (ipykernel)",
   "language": "python",
   "name": "python3"
  },
  "language_info": {
   "codemirror_mode": {
    "name": "ipython",
    "version": 3
   },
   "file_extension": ".py",
   "mimetype": "text/x-python",
   "name": "python",
   "nbconvert_exporter": "python",
   "pygments_lexer": "ipython3",
   "version": "3.10.9"
  }
 },
 "nbformat": 4,
 "nbformat_minor": 5
}
