{
 "cells": [
  {
   "cell_type": "code",
   "execution_count": 1,
   "id": "870a2e54",
   "metadata": {},
   "outputs": [],
   "source": [
    "# Installing mlxtend\n",
    "!pip install -Uqq mlxtend"
   ]
  },
  {
   "cell_type": "code",
   "execution_count": null,
   "id": "ba0d0f3e",
   "metadata": {},
   "outputs": [],
   "source": [
    "# Import libraries\n",
    "import numpy as np\n",
    "import pandas as pd\n",
    "\n",
    "import matplotlib.pyplot as plt\n",
    "\n",
    "from sklearn.svm import SVC\n",
    "from mlxtend.plotting import plot_decision_regions\n",
    "from sklearn.model_selection import train_test_split, GridSearchCV\n",
    "from sklearn.metrics import accuracy_score\n",
    "from sklearn.feature_selection import RFE\n",
    "from sklearn.preprocessing import OneHotEncoder, StandardScaler\n",
    "from sklearn.feature_selection import SelectKBest, f_classif\n",
    "from sklearn.inspection import permutation_importance\n",
    "from sklearn.preprocessing import LabelEncoder\n",
    "\n",
    "import warnings\n",
    "warnings.filterwarnings(\"ignore\")"
   ]
  },
  {
   "cell_type": "code",
   "execution_count": 3,
   "id": "31a5ae50",
   "metadata": {},
   "outputs": [
    {
     "data": {
      "text/plain": [
       "(75388, 23)"
      ]
     },
     "execution_count": 3,
     "metadata": {},
     "output_type": "execute_result"
    }
   ],
   "source": [
    "df = pd.read_csv('Housing.csv')\n",
    "df.shape"
   ]
  },
  {
   "cell_type": "code",
   "execution_count": 4,
   "id": "6eedf285",
   "metadata": {},
   "outputs": [
    {
     "data": {
      "text/plain": [
       "Index(['SERIAL', 'DENSITY', 'OWNERSHP', 'OWNERSHPD', 'COSTELEC', 'COSTGAS',\n",
       "       'COSTWATR', 'COSTFUEL', 'HHINCOME', 'ROOMS', 'BUILTYR2', 'BEDROOMS',\n",
       "       'VEHICLES', 'NFAMS', 'NCOUPLES', 'PERNUM', 'PERWT', 'AGE', 'MARST',\n",
       "       'BIRTHYR', 'EDUC', 'EDUCD', 'INCTOT'],\n",
       "      dtype='object')"
      ]
     },
     "execution_count": 4,
     "metadata": {},
     "output_type": "execute_result"
    }
   ],
   "source": [
    "df.columns"
   ]
  },
  {
   "cell_type": "markdown",
   "id": "11e3f025",
   "metadata": {},
   "source": [
    "## Subsetting the data of elder people of the household"
   ]
  },
  {
   "cell_type": "code",
   "execution_count": 5,
   "id": "04f7cb2a",
   "metadata": {},
   "outputs": [
    {
     "data": {
      "text/plain": [
       "(30802, 17)"
      ]
     },
     "execution_count": 5,
     "metadata": {},
     "output_type": "execute_result"
    }
   ],
   "source": [
    "data = df.sort_values(['SERIAL', 'AGE'], ascending=[True, False]).drop_duplicates('SERIAL')\n",
    "data = data.drop(['SERIAL', 'OWNERSHPD', 'PERNUM', 'PERWT', 'BIRTHYR', 'EDUCD'], axis=1)\n",
    "data.shape"
   ]
  },
  {
   "cell_type": "code",
   "execution_count": 6,
   "id": "dbcd0540",
   "metadata": {},
   "outputs": [],
   "source": [
    "#housing_variables = ['DENSITY','COSTELEC','COSTGAS','COSTWATR','COSTFUEL', 'ROOMS', 'BUILTYR2', 'BEDROOMS', 'VEHICLES']\n",
    "#people_variables = ['HHINCOME','AGE','MARST','EDUC','INCTOT']\n",
    "#dwelling_variables = ['NFAMS', 'NCOUPLES']"
   ]
  },
  {
   "cell_type": "code",
   "execution_count": 7,
   "id": "8a8bb269",
   "metadata": {},
   "outputs": [
    {
     "data": {
      "text/plain": [
       "Index(['DENSITY', 'OWNERSHP', 'COSTELEC', 'COSTGAS', 'COSTWATR', 'COSTFUEL',\n",
       "       'HHINCOME', 'ROOMS', 'BUILTYR2', 'BEDROOMS', 'VEHICLES', 'NFAMS',\n",
       "       'NCOUPLES', 'AGE', 'MARST', 'EDUC', 'INCTOT'],\n",
       "      dtype='object')"
      ]
     },
     "execution_count": 7,
     "metadata": {},
     "output_type": "execute_result"
    }
   ],
   "source": [
    "data.columns"
   ]
  },
  {
   "cell_type": "code",
   "execution_count": 8,
   "id": "6ab47646",
   "metadata": {},
   "outputs": [
    {
     "data": {
      "text/plain": [
       "0"
      ]
     },
     "execution_count": 8,
     "metadata": {},
     "output_type": "execute_result"
    }
   ],
   "source": [
    "# checking for any NULL Values\n",
    "data.isnull().any(axis=1).sum()"
   ]
  },
  {
   "cell_type": "code",
   "execution_count": 9,
   "id": "39ee5f33",
   "metadata": {},
   "outputs": [
    {
     "data": {
      "text/plain": [
       "DENSITY     float64\n",
       "OWNERSHP      int64\n",
       "COSTELEC      int64\n",
       "COSTGAS       int64\n",
       "COSTWATR      int64\n",
       "COSTFUEL      int64\n",
       "HHINCOME    float64\n",
       "ROOMS         int64\n",
       "BUILTYR2      int64\n",
       "BEDROOMS      int64\n",
       "VEHICLES      int64\n",
       "NFAMS         int64\n",
       "NCOUPLES      int64\n",
       "AGE           int64\n",
       "MARST         int64\n",
       "EDUC          int64\n",
       "INCTOT      float64\n",
       "dtype: object"
      ]
     },
     "execution_count": 9,
     "metadata": {},
     "output_type": "execute_result"
    }
   ],
   "source": [
    "data.dtypes"
   ]
  },
  {
   "cell_type": "code",
   "execution_count": 10,
   "id": "f3adbc71",
   "metadata": {},
   "outputs": [],
   "source": [
    "# Split data into X and y\n",
    "X = data.drop('OWNERSHP', axis=1)\n",
    "y = data['OWNERSHP']"
   ]
  },
  {
   "cell_type": "code",
   "execution_count": 11,
   "id": "03fe7ec7",
   "metadata": {},
   "outputs": [],
   "source": [
    "# Preprocess categorical features\n",
    "cat_cols = ['EDUC', 'MARST']\n",
    "X_cat = X[cat_cols]\n",
    "X_cat_enc = OneHotEncoder().fit_transform(X_cat)\n",
    "X = X.drop(cat_cols, axis=1)\n",
    "X = np.hstack((X.values, X_cat_enc.toarray()))"
   ]
  },
  {
   "cell_type": "code",
   "execution_count": 12,
   "id": "b4abb498",
   "metadata": {},
   "outputs": [],
   "source": [
    "# Split data into training and testing sets\n",
    "X_train, X_test, y_train, y_test = train_test_split(X, y, test_size=0.3, random_state=42)\n",
    "\n",
    "# Scale continuous features\n",
    "scaler = StandardScaler().fit(X_train[:, :-4])\n",
    "X_train[:, :-4] = scaler.transform(X_train[:, :-4])\n",
    "X_test[:, :-4] = scaler.transform(X_test[:, :-4])"
   ]
  },
  {
   "cell_type": "markdown",
   "id": "6b72b591",
   "metadata": {},
   "source": [
    "### LINEAR"
   ]
  },
  {
   "cell_type": "markdown",
   "id": "c2466c4c",
   "metadata": {},
   "source": [
    "##### Linear SVM with different COST values"
   ]
  },
  {
   "cell_type": "code",
   "execution_count": 13,
   "id": "689e1bdf",
   "metadata": {},
   "outputs": [
    {
     "name": "stdout",
     "output_type": "stream",
     "text": [
      "[LibSVM]Linear SVM with C=0.01: 33.22%\n",
      "[LibSVM]Linear SVM with C=0.1: 29.34%\n",
      "[LibSVM]Linear SVM with C=1: 67.12%\n",
      "[LibSVM]Linear SVM with C=10: 36.84%\n",
      "[LibSVM]Linear SVM with C=50: 56.95%\n",
      "[LibSVM]Linear SVM with C=100: 38.46%\n",
      "[LibSVM]Linear SVM with C=500: 66.11%\n",
      "[LibSVM]Linear SVM with C=1000: 66.11%\n"
     ]
    }
   ],
   "source": [
    "C_values = [0.01, 0.1, 1, 10, 50, 100, 500, 1000]\n",
    "\n",
    "for C in C_values:\n",
    "    linear_svc = SVC(kernel='linear', C=C, cache_size=1000, verbose = True, max_iter = 1000, random_state=42)\n",
    "\n",
    "    # Fit the model to the training data\n",
    "    linear_svc.fit(X_train, y_train)\n",
    "\n",
    "    # Evaluate the model on the testing data and print the accuracy score\n",
    "    accuracy = linear_svc.score(X_test, y_test)\n",
    "    print(\"Linear SVM with C=%s: %.2f%%\" % (C, accuracy * 100))"
   ]
  },
  {
   "cell_type": "markdown",
   "id": "b3367ffa",
   "metadata": {},
   "source": [
    "C = 1 gives better accuracy of 67.12%"
   ]
  },
  {
   "cell_type": "markdown",
   "id": "5d8055a0",
   "metadata": {},
   "source": [
    "##### Using Feature Selection"
   ]
  },
  {
   "cell_type": "code",
   "execution_count": 14,
   "id": "26941de3",
   "metadata": {},
   "outputs": [],
   "source": [
    "# Perform feature selection\n",
    "k = 10  # number of top features to select\n",
    "selector = SelectKBest(f_classif, k=k)\n",
    "selector.fit(X_train, y_train)\n",
    "X_train_new = selector.transform(X_train)\n",
    "X_test_new = selector.transform(X_test)"
   ]
  },
  {
   "cell_type": "code",
   "execution_count": 15,
   "id": "83398525",
   "metadata": {},
   "outputs": [
    {
     "name": "stdout",
     "output_type": "stream",
     "text": [
      "[LibSVM]Linear SVM with C=0.01: 84.21%\n",
      "[LibSVM]Linear SVM with C=0.1: 84.32%\n",
      "[LibSVM]Linear SVM with C=1: 83.26%\n",
      "[LibSVM]Linear SVM with C=10: 50.29%\n",
      "[LibSVM]Linear SVM with C=50: 60.30%\n",
      "[LibSVM]Linear SVM with C=100: 34.08%\n",
      "[LibSVM]Linear SVM with C=500: 39.30%\n",
      "[LibSVM]Linear SVM with C=1000: 60.98%\n"
     ]
    }
   ],
   "source": [
    "C_values = [0.01, 0.1, 1, 10, 50, 100, 500, 1000]\n",
    "\n",
    "for C in C_values:\n",
    "    linear_svc = SVC(kernel='linear', C=C, cache_size=1000, verbose = True, max_iter = 10000, random_state=42)\n",
    "\n",
    "    # Fit the model to the training data\n",
    "    linear_svc.fit(X_train_new, y_train)\n",
    "\n",
    "    # Evaluate the model on the testing data and print the accuracy score\n",
    "    accuracy = linear_svc.score(X_test_new, y_test)\n",
    "    print(\"Linear SVM with C=%s: %.2f%%\" % (C, accuracy * 100))"
   ]
  },
  {
   "cell_type": "markdown",
   "id": "5654626e",
   "metadata": {},
   "source": [
    "Cost of 0.01 ands 0.1 gives more accuracy of 84.21%"
   ]
  },
  {
   "cell_type": "code",
   "execution_count": null,
   "id": "d2e66dab",
   "metadata": {},
   "outputs": [
    {
     "name": "stdout",
     "output_type": "stream",
     "text": [
      "[LibSVM]Linear SVM with C=0.1: 84.32%\n"
     ]
    }
   ],
   "source": [
    "linear_svc = SVC(kernel='linear', C=0.1, cache_size=1000, verbose = True, max_iter = 10000, random_state=42)\n",
    "\n",
    "# Fit the model to the training data\n",
    "linear_svc.fit(X_train_new, y_train)\n",
    "\n",
    "# Evaluate the model on the testing data and print the accuracy score\n",
    "accuracy = linear_svc.score(X_test_new, y_test)\n",
    "print(\"Linear SVM with C=0.1: %.2f%%\" % (accuracy * 100))\n",
    "\n",
    "result = permutation_importance(linear_svc, X_train_new, y_train, n_repeats=100000, random_state=42)\n",
    "sorted_idx = result.importances_mean.argsort()"
   ]
  },
  {
   "cell_type": "code",
   "execution_count": null,
   "id": "cb862471",
   "metadata": {},
   "outputs": [],
   "source": [
    "# Plot feature importance\n",
    "plt.barh(range(X.shape[1]), result.importances_mean[sorted_idx])\n",
    "plt.yticks(range(X.shape[1]), X.columns[sorted_idx])\n",
    "plt.xlabel('Importance')\n",
    "plt.title('Feature Importance')\n",
    "plt.show()\n",
    "\n",
    "# Plot decision boundary\n",
    "h = .02  # step size in the mesh\n",
    "x_min, x_max = X[:, 0].min() - 1, X[:, 0].max() + 1\n",
    "y_min, y_max = X[:, 1].min() - 1, X[:, 1].max() + 1\n",
    "xx, yy = np.meshgrid(np.arange(x_min, x_max, h), np.arange(y_min, y_max, h))\n",
    "\n",
    "Z = svm_model.predict(np.c_[xx.ravel(), yy.ravel()])\n",
    "Z = Z.reshape(xx.shape)\n",
    "\n",
    "plt.contourf(xx, yy, Z, cmap=plt.cm.Paired, alpha=0.8)\n",
    "plt.scatter(X[:, 0], X[:, 1], c=y, cmap=plt.cm.Paired)\n",
    "plt.xlabel('Feature 1')\n",
    "plt.ylabel('Feature 2')\n",
    "plt.title('Decision Boundary')\n",
    "plt.show()"
   ]
  },
  {
   "cell_type": "code",
   "execution_count": null,
   "id": "e38c53ae",
   "metadata": {},
   "outputs": [],
   "source": []
  },
  {
   "cell_type": "code",
   "execution_count": null,
   "id": "6c746772",
   "metadata": {},
   "outputs": [],
   "source": []
  },
  {
   "cell_type": "markdown",
   "id": "09e73606",
   "metadata": {},
   "source": [
    "### RADIAL"
   ]
  },
  {
   "cell_type": "code",
   "execution_count": null,
   "id": "1eaaf9e1",
   "metadata": {},
   "outputs": [],
   "source": [
    "rbf_svc = SVC(kernel='rbf', cache_size=1000, max_iter=10000, random_state=42)\n",
    "rbf_svc.fit(X_train, y_train)\n",
    "\n",
    "y_pred_rbf = rbf_svc.predict(X_test)\n",
    "\n",
    "accuracy_rbf = accuracy_score(y_test, y_pred_rbf)\n",
    "\n",
    "print('Accuracy with radial kernel:', accuracy_rbf)"
   ]
  },
  {
   "cell_type": "code",
   "execution_count": null,
   "id": "79769e18",
   "metadata": {},
   "outputs": [],
   "source": [
    "# Different cost values\n",
    "C_values = [0.01, 0.1, 1, 10, 100, 1000]\n",
    "\n",
    "for c in C_values:\n",
    "    rbf_svc = SVC(kernel='rbf', C=c, cache_size=1000, verbose=True, max_iter=10000, random_state=42)\n",
    "\n",
    "    # Fit the model to the training data\n",
    "    rbf_svc.fit(X_train, y_train)\n",
    "\n",
    "    # Evaluate the model on the testing data and print the accuracy score\n",
    "    accuracy = rbf_svc.score(X_test, y_test)\n",
    "    print(\"RBF SVM with C=%s: %.2f%%\" % (c, accuracy * 100))\n"
   ]
  },
  {
   "cell_type": "code",
   "execution_count": null,
   "id": "cff3c6dc",
   "metadata": {},
   "outputs": [],
   "source": []
  },
  {
   "cell_type": "code",
   "execution_count": null,
   "id": "708eb08e",
   "metadata": {},
   "outputs": [],
   "source": []
  }
 ],
 "metadata": {
  "kernelspec": {
   "display_name": "Python 3 (ipykernel)",
   "language": "python",
   "name": "python3"
  },
  "language_info": {
   "codemirror_mode": {
    "name": "ipython",
    "version": 3
   },
   "file_extension": ".py",
   "mimetype": "text/x-python",
   "name": "python",
   "nbconvert_exporter": "python",
   "pygments_lexer": "ipython3",
   "version": "3.9.12"
  }
 },
 "nbformat": 4,
 "nbformat_minor": 5
}
