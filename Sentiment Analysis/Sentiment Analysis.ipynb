{
 "cells": [
  {
   "cell_type": "code",
   "execution_count": 1,
   "id": "d40d0242",
   "metadata": {},
   "outputs": [],
   "source": [
    "import numpy as np\n",
    "import pandas as pd"
   ]
  },
  {
   "cell_type": "markdown",
   "id": "b4380009",
   "metadata": {},
   "source": [
    "# Reading the Data"
   ]
  },
  {
   "cell_type": "code",
   "execution_count": 2,
   "id": "f12da960",
   "metadata": {},
   "outputs": [
    {
     "data": {
      "text/html": [
       "<div>\n",
       "<style scoped>\n",
       "    .dataframe tbody tr th:only-of-type {\n",
       "        vertical-align: middle;\n",
       "    }\n",
       "\n",
       "    .dataframe tbody tr th {\n",
       "        vertical-align: top;\n",
       "    }\n",
       "\n",
       "    .dataframe thead th {\n",
       "        text-align: right;\n",
       "    }\n",
       "</style>\n",
       "<table border=\"1\" class=\"dataframe\">\n",
       "  <thead>\n",
       "    <tr style=\"text-align: right;\">\n",
       "      <th></th>\n",
       "      <th>Review Text</th>\n",
       "      <th>Review Class</th>\n",
       "    </tr>\n",
       "  </thead>\n",
       "  <tbody>\n",
       "    <tr>\n",
       "      <th>0</th>\n",
       "      <td>A very, very, very slow-moving, aimless movie ...</td>\n",
       "      <td>0</td>\n",
       "    </tr>\n",
       "    <tr>\n",
       "      <th>1</th>\n",
       "      <td>Not sure who was more lost - the flat characte...</td>\n",
       "      <td>0</td>\n",
       "    </tr>\n",
       "    <tr>\n",
       "      <th>2</th>\n",
       "      <td>Attempting artiness with black &amp; white and cle...</td>\n",
       "      <td>0</td>\n",
       "    </tr>\n",
       "    <tr>\n",
       "      <th>3</th>\n",
       "      <td>Very little music or anything to speak of.</td>\n",
       "      <td>0</td>\n",
       "    </tr>\n",
       "    <tr>\n",
       "      <th>4</th>\n",
       "      <td>The best scene in the movie was when Gerardo i...</td>\n",
       "      <td>1</td>\n",
       "    </tr>\n",
       "  </tbody>\n",
       "</table>\n",
       "</div>"
      ],
      "text/plain": [
       "                                         Review Text  Review Class\n",
       "0  A very, very, very slow-moving, aimless movie ...             0\n",
       "1  Not sure who was more lost - the flat characte...             0\n",
       "2  Attempting artiness with black & white and cle...             0\n",
       "3       Very little music or anything to speak of.               0\n",
       "4  The best scene in the movie was when Gerardo i...             1"
      ]
     },
     "execution_count": 2,
     "metadata": {},
     "output_type": "execute_result"
    }
   ],
   "source": [
    "data_imdb = pd.read_csv('imdb_labelled.txt', delimiter = '\\t', header = None)\n",
    "data_imdb.columns = ['Review Text', 'Review Class']\n",
    "\n",
    "data_amazon = pd.read_csv('amazon_cells_labelled.txt', delimiter = '\\t', header = None)\n",
    "data_amazon.columns = ['Review Text', 'Review Class']\n",
    "\n",
    "\n",
    "data_yelp = pd.read_csv('yelp_labelled.txt', delimiter = '\\t', header = None)\n",
    "data_yelp.columns = ['Review Text', 'Review Class']\n",
    "\n",
    "data = pd.concat([data_imdb, data_amazon, data_yelp])\n",
    "data.head()"
   ]
  },
  {
   "cell_type": "code",
   "execution_count": 3,
   "id": "10112c72",
   "metadata": {},
   "outputs": [
    {
     "data": {
      "text/plain": [
       "(2748, 2)"
      ]
     },
     "execution_count": 3,
     "metadata": {},
     "output_type": "execute_result"
    }
   ],
   "source": [
    "data.shape"
   ]
  },
  {
   "cell_type": "markdown",
   "id": "5f6653cf",
   "metadata": {},
   "source": [
    "# Pre-processing Text Data"
   ]
  },
  {
   "cell_type": "markdown",
   "id": "b9676513",
   "metadata": {},
   "source": [
    "### Pre-processing Our Text Reviews"
   ]
  },
  {
   "cell_type": "code",
   "execution_count": 4,
   "id": "e7b2992a",
   "metadata": {},
   "outputs": [],
   "source": [
    "import re\n",
    "import nltk\n",
    "import string\n",
    "from nltk.tokenize import word_tokenize\n",
    "from nltk.corpus import stopwords\n",
    "from nltk.stem.porter import PorterStemmer"
   ]
  },
  {
   "cell_type": "code",
   "execution_count": 5,
   "id": "7e30e8e8",
   "metadata": {},
   "outputs": [
    {
     "data": {
      "text/plain": [
       "'A very, very, very slow-moving, aimless movie about a distressed, drifting young man.  '"
      ]
     },
     "execution_count": 5,
     "metadata": {},
     "output_type": "execute_result"
    }
   ],
   "source": [
    "all_reviws  = list()\n",
    "\n",
    "# Add all the reviews to a list\n",
    "lines = data['Review Text'].values.tolist()\n",
    "\n",
    "# First element of the list is our first review from data\n",
    "lines[0]"
   ]
  },
  {
   "cell_type": "code",
   "execution_count": 6,
   "id": "49bfa579",
   "metadata": {},
   "outputs": [
    {
     "name": "stderr",
     "output_type": "stream",
     "text": [
      "[nltk_data] Downloading package punkt to\n",
      "[nltk_data]     /Users/likhithaveganti/nltk_data...\n",
      "[nltk_data]   Package punkt is already up-to-date!\n"
     ]
    },
    {
     "data": {
      "text/plain": [
       "True"
      ]
     },
     "execution_count": 6,
     "metadata": {},
     "output_type": "execute_result"
    }
   ],
   "source": [
    "import nltk\n",
    "# The punkt tokenizer is a pre-trained model used by NLTK to split text into sentences, \n",
    "# which is necessary before tokenizing the text into words.\n",
    "nltk.download('punkt')"
   ]
  },
  {
   "cell_type": "code",
   "execution_count": 7,
   "id": "b60a4f2d",
   "metadata": {},
   "outputs": [
    {
     "data": {
      "text/plain": [
       "['slowmov aimless movi distress drift young man',\n",
       " 'not sure lost flat charact audienc nearli half walk',\n",
       " 'attempt arti black white clever camera angl movi disappoint becam even ridicul act poor plot line almost nonexist',\n",
       " 'littl music anyth speak',\n",
       " 'best scene movi gerardo tri find song keep run head',\n",
       " 'rest movi lack art charm mean empti work guess empti',\n",
       " 'wast two hour',\n",
       " 'saw movi today thought good effort good messag kid',\n",
       " 'bit predict',\n",
       " 'love cast jimmi buffet scienc teacher',\n",
       " 'babi owl ador',\n",
       " 'movi show lot florida best made look appeal',\n",
       " 'song best muppet hilari',\n",
       " 'cool',\n",
       " 'right case movi deliv everyth almost right face',\n",
       " 'averag act main person low budget clearli see',\n",
       " 'review long overdu sinc consid tale two sister singl greatest film ever made',\n",
       " 'put gem movi term screenplay cinematographi act postproduct edit direct aspect filmmak',\n",
       " 'practic perfect true masterpiec sea faux masterpiec',\n",
       " 'structur film easili tightli construct histori cinema think film someth vital import occur everi minut word content level film enough easili fill dozen film anyon right mind ask anyth movi quit simpli highest superl form cinema imagin ye film requir rather signific amount puzzlesolv piec fit togeth creat beauti pictur short film certainli pull punch graphic far best part game number one best th game seri deserv strong love insan game massiv level massiv unlock charact massiv game wast money game kind money wast properli actual graphic good time today graphic crap say canada fun game aye game rock buy play enjoy love pure brillianc flick doom concept idea lame take minor charact mediocr film make complet nonsequel chang tone pgrate famili movi nt least bit interest not confirm film would unfunni gener also manag give away entir movi not exagger everi moment everi plot point everi joke told trailer not funni even talent carrel ca nt save costar nt fare much better peopl like morgan freeman jonah hill ed helm wast stori predict lazi real effect work presenc anim integr scene worst obviou bluegreenscreen work ever seen whatev cost much nt translat qualiti sure film succe despit perhap obvious meagr budget glad film nt go obviou choic lesser film certainli would addit one love song ever written french cancan also boast one cutest lead ladi ever grace screen hard not fall headoverheel love girl neg insipid enough caus regret anoth hour life wast front screen long whini pointless recommend wait futur effort let one go excel cast stori line perform total believ ann hech utterli convinc sam shepard portray gung ho marin sober sat rivet tv screen give one resound think tom hank good actor enjoy read book children littl disappoint movi one charact total annoy voic give feel fingernail chalkboard total unnecessari trainrol coaster scene absolut warmth charm scene charact movi total grate nerv perform not improv improvis actor twice much worri not whether deliv line well whether line good quit honestli often not good often dialogu nt realli follow one line anoth fit surround crackl unpredict youth energi honestli found hard follow concentr meander badli gener great thing would nt say worth hour time though suspens builder good cross line g pg especi like nonclich choic parent movi could predict dialog verbatim write movi made better select want movi not gross give chill great choic alexand nevski great film amaz film artist one import whoever live glad pretenti piec nt plan dodg stratu big shot gon na help movi maker nt restrain movi busi québec']"
      ]
     },
     "execution_count": 7,
     "metadata": {},
     "output_type": "execute_result"
    }
   ],
   "source": [
    "def clean_text(df):\n",
    "    all_reviews = list()\n",
    "    lines = df[\"Review Text\"].values.tolist()\n",
    "    for text in lines:\n",
    "        \n",
    "        # converting to lower case\n",
    "        text = text.lower()\n",
    "        \n",
    "        # Getting rid of all the links in the review\n",
    "        pattern = re.compile('http[s]?://(?:[a-zA-Z]|[0-9]|[$-_@.&+]|[!*\\(\\),]|(?:%[0-9a-fA-F][0-9a-fA-F]))+')\n",
    "        text = pattern.sub('', text)\n",
    "        \n",
    "        # Removing all the punctuations\n",
    "        text = re.sub(r\"[,.\\\"!@#$%^&*(){}?/;`~:<>+=-]\", \"\", text)\n",
    "        \n",
    "        # Tokenizing the words\n",
    "        tokens = word_tokenize(text)\n",
    "        \n",
    "        # Remove all the punctuations\n",
    "        table = str.maketrans('', '', string.punctuation)\n",
    "        stripped = [w.translate(table) for w in tokens]\n",
    "        \n",
    "        # Remove all the words that are not alphabets\n",
    "        words = [word for word in stripped if word.isalpha()]\n",
    "        \n",
    "        # Removing all the stopwords from english as the dataset is english dataset.\n",
    "        stop_words = set(stopwords.words(\"english\"))\n",
    "        \n",
    "        # Discard 'not' word too as it can impact the analysis\n",
    "        stop_words.discard(\"not\")\n",
    "        \n",
    "        # Stemming - Taking only the root words\n",
    "        PS = PorterStemmer()\n",
    "        \n",
    "        # Combining tokens to a string\n",
    "        words = [PS.stem(w) for w in words if not w in stop_words]\n",
    "        words = ' '.join(words)\n",
    "        all_reviews.append(words)\n",
    "        \n",
    "    return all_reviews\n",
    "\n",
    "all_reviews = clean_text(data)\n",
    "\n",
    "# printing first 20 sentences\n",
    "all_reviews[:20]"
   ]
  },
  {
   "cell_type": "code",
   "execution_count": 8,
   "id": "e0815abf",
   "metadata": {},
   "outputs": [
    {
     "data": {
      "text/plain": [
       "['i',\n",
       " 'me',\n",
       " 'my',\n",
       " 'myself',\n",
       " 'we',\n",
       " 'our',\n",
       " 'ours',\n",
       " 'ourselves',\n",
       " 'you',\n",
       " \"you're\",\n",
       " \"you've\",\n",
       " \"you'll\",\n",
       " \"you'd\",\n",
       " 'your',\n",
       " 'yours',\n",
       " 'yourself',\n",
       " 'yourselves',\n",
       " 'he',\n",
       " 'him',\n",
       " 'his',\n",
       " 'himself',\n",
       " 'she',\n",
       " \"she's\",\n",
       " 'her',\n",
       " 'hers',\n",
       " 'herself',\n",
       " 'it',\n",
       " \"it's\",\n",
       " 'its',\n",
       " 'itself',\n",
       " 'they',\n",
       " 'them',\n",
       " 'their',\n",
       " 'theirs',\n",
       " 'themselves',\n",
       " 'what',\n",
       " 'which',\n",
       " 'who',\n",
       " 'whom',\n",
       " 'this',\n",
       " 'that',\n",
       " \"that'll\",\n",
       " 'these',\n",
       " 'those',\n",
       " 'am',\n",
       " 'is',\n",
       " 'are',\n",
       " 'was',\n",
       " 'were',\n",
       " 'be',\n",
       " 'been',\n",
       " 'being',\n",
       " 'have',\n",
       " 'has',\n",
       " 'had',\n",
       " 'having',\n",
       " 'do',\n",
       " 'does',\n",
       " 'did',\n",
       " 'doing',\n",
       " 'a',\n",
       " 'an',\n",
       " 'the',\n",
       " 'and',\n",
       " 'but',\n",
       " 'if',\n",
       " 'or',\n",
       " 'because',\n",
       " 'as',\n",
       " 'until',\n",
       " 'while',\n",
       " 'of',\n",
       " 'at',\n",
       " 'by',\n",
       " 'for',\n",
       " 'with',\n",
       " 'about',\n",
       " 'against',\n",
       " 'between',\n",
       " 'into',\n",
       " 'through',\n",
       " 'during',\n",
       " 'before',\n",
       " 'after',\n",
       " 'above',\n",
       " 'below',\n",
       " 'to',\n",
       " 'from',\n",
       " 'up',\n",
       " 'down',\n",
       " 'in',\n",
       " 'out',\n",
       " 'on',\n",
       " 'off',\n",
       " 'over',\n",
       " 'under',\n",
       " 'again',\n",
       " 'further',\n",
       " 'then',\n",
       " 'once',\n",
       " 'here',\n",
       " 'there',\n",
       " 'when',\n",
       " 'where',\n",
       " 'why',\n",
       " 'how',\n",
       " 'all',\n",
       " 'any',\n",
       " 'both',\n",
       " 'each',\n",
       " 'few',\n",
       " 'more',\n",
       " 'most',\n",
       " 'other',\n",
       " 'some',\n",
       " 'such',\n",
       " 'no',\n",
       " 'nor',\n",
       " 'not',\n",
       " 'only',\n",
       " 'own',\n",
       " 'same',\n",
       " 'so',\n",
       " 'than',\n",
       " 'too',\n",
       " 'very',\n",
       " 's',\n",
       " 't',\n",
       " 'can',\n",
       " 'will',\n",
       " 'just',\n",
       " 'don',\n",
       " \"don't\",\n",
       " 'should',\n",
       " \"should've\",\n",
       " 'now',\n",
       " 'd',\n",
       " 'll',\n",
       " 'm',\n",
       " 'o',\n",
       " 're',\n",
       " 've',\n",
       " 'y',\n",
       " 'ain',\n",
       " 'aren',\n",
       " \"aren't\",\n",
       " 'couldn',\n",
       " \"couldn't\",\n",
       " 'didn',\n",
       " \"didn't\",\n",
       " 'doesn',\n",
       " \"doesn't\",\n",
       " 'hadn',\n",
       " \"hadn't\",\n",
       " 'hasn',\n",
       " \"hasn't\",\n",
       " 'haven',\n",
       " \"haven't\",\n",
       " 'isn',\n",
       " \"isn't\",\n",
       " 'ma',\n",
       " 'mightn',\n",
       " \"mightn't\",\n",
       " 'mustn',\n",
       " \"mustn't\",\n",
       " 'needn',\n",
       " \"needn't\",\n",
       " 'shan',\n",
       " \"shan't\",\n",
       " 'shouldn',\n",
       " \"shouldn't\",\n",
       " 'wasn',\n",
       " \"wasn't\",\n",
       " 'weren',\n",
       " \"weren't\",\n",
       " 'won',\n",
       " \"won't\",\n",
       " 'wouldn',\n",
       " \"wouldn't\"]"
      ]
     },
     "execution_count": 8,
     "metadata": {},
     "output_type": "execute_result"
    }
   ],
   "source": [
    "stopwords.words(\"english\")"
   ]
  },
  {
   "cell_type": "markdown",
   "id": "10ceebb1",
   "metadata": {},
   "source": [
    "### Build our Vocabulary and Feature matrix"
   ]
  },
  {
   "cell_type": "code",
   "execution_count": 9,
   "id": "f444051f",
   "metadata": {},
   "outputs": [
    {
     "name": "stdout",
     "output_type": "stream",
     "text": [
      "(2748, 1509)\n",
      "(2748,)\n"
     ]
    }
   ],
   "source": [
    "from sklearn.feature_extraction.text import TfidfVectorizer\n",
    "\n",
    "# Creating an object of TfidfVectorizer\n",
    "# min_df = 3 means taking all the words that occured atleast thrice.\n",
    "TV = TfidfVectorizer(min_df=3, ngram_range=(1, 2))  # Use bi-grams\n",
    " \n",
    "\n",
    "# Applying reviews to this object to build our feature matrix\n",
    "X = TV.fit_transform(all_reviews).toarray()\n",
    "\n",
    "# Target Vector\n",
    "y = data[\"Review Class\"].to_numpy()\n",
    "\n",
    "print(np.shape(X))\n",
    "print(np.shape(y))"
   ]
  },
  {
   "cell_type": "markdown",
   "id": "c2df9502",
   "metadata": {},
   "source": [
    "### Splitting the Data"
   ]
  },
  {
   "cell_type": "code",
   "execution_count": 10,
   "id": "102da8d9",
   "metadata": {},
   "outputs": [
    {
     "data": {
      "text/plain": [
       "((2198, 1509), (550, 1509))"
      ]
     },
     "execution_count": 10,
     "metadata": {},
     "output_type": "execute_result"
    }
   ],
   "source": [
    "from sklearn.model_selection import train_test_split\n",
    "\n",
    "# Splitting the data to Train and Test datasets.\n",
    "X_train, X_test, y_train, y_test = train_test_split(X, y, test_size = 0.2, random_state = 42)\n",
    "\n",
    "X_train.shape, X_test.shape"
   ]
  },
  {
   "cell_type": "markdown",
   "id": "b2734ecc",
   "metadata": {},
   "source": [
    "### Best Feature Selection"
   ]
  },
  {
   "cell_type": "code",
   "execution_count": 11,
   "id": "409f5e1b",
   "metadata": {},
   "outputs": [
    {
     "data": {
      "text/plain": [
       "((2198, 1000), (550, 1000))"
      ]
     },
     "execution_count": 11,
     "metadata": {},
     "output_type": "execute_result"
    }
   ],
   "source": [
    "from sklearn.feature_selection import SelectKBest, chi2\n",
    "\n",
    "fs = SelectKBest(score_func=chi2, k=1000)\n",
    "X_train_selected = fs.fit_transform(X_train, y_train)\n",
    "X_test_selected = fs.transform(X_test)\n",
    "X_train_selected.shape, X_test_selected.shape"
   ]
  },
  {
   "cell_type": "markdown",
   "id": "6079e90b",
   "metadata": {},
   "source": [
    "# Fitting the Machine Learning Model"
   ]
  },
  {
   "cell_type": "markdown",
   "id": "3250a2c9",
   "metadata": {},
   "source": [
    "### Naive Bayes Model"
   ]
  },
  {
   "cell_type": "code",
   "execution_count": 12,
   "id": "47fea453",
   "metadata": {},
   "outputs": [
    {
     "name": "stdout",
     "output_type": "stream",
     "text": [
      "Accuracy Score is 0.7418181818181818\n",
      "F1 Score is 0.7455197132616487\n",
      "Precision Score is 0.7074829931972789\n"
     ]
    }
   ],
   "source": [
    "# Naive Bayes is regarded as one of the best NLP Model\n",
    "from sklearn.naive_bayes import GaussianNB\n",
    "model = GaussianNB()\n",
    "\n",
    "model.fit(X_train_selected,y_train)\n",
    "\n",
    "y_pred = model.predict(X_test_selected)\n",
    "\n",
    "from sklearn.metrics import accuracy_score, f1_score, precision_score\n",
    "print('Accuracy Score is',accuracy_score(y_test, y_pred))\n",
    "print('F1 Score is',f1_score(y_test, y_pred))\n",
    "print('Precision Score is',precision_score(y_test, y_pred))"
   ]
  },
  {
   "cell_type": "markdown",
   "id": "e853c9a6",
   "metadata": {},
   "source": [
    "### Decision Tree Model"
   ]
  },
  {
   "cell_type": "code",
   "execution_count": 13,
   "id": "2743111b",
   "metadata": {},
   "outputs": [
    {
     "name": "stdout",
     "output_type": "stream",
     "text": [
      "Accuracy Score is 0.7727272727272727\n",
      "F1 Score is 0.7544204322200394\n",
      "Precision Score is 0.7836734693877551\n"
     ]
    }
   ],
   "source": [
    "# Trying Decision Tree Model\n",
    "from sklearn.tree import DecisionTreeClassifier\n",
    "model = DecisionTreeClassifier(criterion=\"entropy\", random_state=41)\n",
    "\n",
    "model.fit(X_train_selected,y_train)\n",
    "\n",
    "y_pred = model.predict(X_test_selected)\n",
    "\n",
    "from sklearn.metrics import accuracy_score, f1_score, precision_score\n",
    "print('Accuracy Score is',accuracy_score(y_test, y_pred))\n",
    "print('F1 Score is',f1_score(y_test, y_pred))\n",
    "print('Precision Score is',precision_score(y_test, y_pred))"
   ]
  },
  {
   "cell_type": "markdown",
   "id": "c4267414",
   "metadata": {},
   "source": [
    "### Random Forest Classifier"
   ]
  },
  {
   "cell_type": "code",
   "execution_count": 14,
   "id": "6dabf154",
   "metadata": {},
   "outputs": [
    {
     "name": "stdout",
     "output_type": "stream",
     "text": [
      "Best parameters: {'max_depth': None, 'max_features': 'log2', 'n_estimators': 200}\n"
     ]
    }
   ],
   "source": [
    "from sklearn.ensemble import RandomForestClassifier\n",
    "from sklearn.model_selection import GridSearchCV\n",
    "\n",
    "# Parameter Tuning\n",
    "param_grid = {\n",
    "    'n_estimators': [100, 200, 300],\n",
    "    'max_features': ['sqrt', 'log2'],  # Corrected to only include valid options\n",
    "    'max_depth': [10, 20, 30, None]\n",
    "}\n",
    "\n",
    "grid_search = GridSearchCV(estimator=RandomForestClassifier(), param_grid=param_grid, cv=3, n_jobs=-1)\n",
    "grid_search.fit(X_train_selected, y_train)\n",
    "\n",
    "print(\"Best parameters:\", grid_search.best_params_)"
   ]
  },
  {
   "cell_type": "code",
   "execution_count": 15,
   "id": "eb7339c9",
   "metadata": {},
   "outputs": [
    {
     "name": "stdout",
     "output_type": "stream",
     "text": [
      "Accuracy: 0.8109090909090909\n",
      "F1 Score: 0.7952755905511812\n",
      "Precision: 0.8278688524590164\n"
     ]
    }
   ],
   "source": [
    "# Initialize the Random Forest Classifier with the best parameters\n",
    "optimized_rf = RandomForestClassifier(\n",
    "    n_estimators=100, \n",
    "    max_features='log2', \n",
    "    max_depth=None, \n",
    "    random_state=42\n",
    ")\n",
    "\n",
    "# Fit the model on the training data\n",
    "optimized_rf.fit(X_train_selected, y_train)\n",
    "\n",
    "# Predict on the test data\n",
    "y_pred = optimized_rf.predict(X_test_selected)\n",
    "\n",
    "# Evaluate the model\n",
    "accuracy = accuracy_score(y_test, y_pred)\n",
    "precision = precision_score(y_test, y_pred)\n",
    "f1 = f1_score(y_test, y_pred)\n",
    "\n",
    "print('Accuracy:', accuracy_score(y_test, y_pred))\n",
    "print('F1 Score:', f1_score(y_test, y_pred))\n",
    "print('Precision:', precision_score(y_test, y_pred))"
   ]
  },
  {
   "cell_type": "markdown",
   "id": "3493258b",
   "metadata": {},
   "source": [
    "### Support Vector Classifier"
   ]
  },
  {
   "cell_type": "code",
   "execution_count": 16,
   "id": "fb606cba",
   "metadata": {},
   "outputs": [
    {
     "name": "stdout",
     "output_type": "stream",
     "text": [
      "Accuracy: 0.8145454545454546\n",
      "F1 Score: 0.7976190476190477\n",
      "Precision: 0.8375\n"
     ]
    }
   ],
   "source": [
    "# Trying Support Vector Classifier\n",
    "from sklearn.svm import SVC\n",
    "\n",
    "model = SVC(kernel='linear')\n",
    "model.fit(X_train_selected, y_train)\n",
    "\n",
    "y_pred = model.predict(X_test_selected)\n",
    "\n",
    "print('Accuracy:', accuracy_score(y_test, y_pred))\n",
    "print('F1 Score:', f1_score(y_test, y_pred))\n",
    "print('Precision:', precision_score(y_test, y_pred))"
   ]
  },
  {
   "cell_type": "markdown",
   "id": "49ee3518",
   "metadata": {},
   "source": [
    "### Neural Network"
   ]
  },
  {
   "cell_type": "code",
   "execution_count": 17,
   "id": "0de9ad7f",
   "metadata": {},
   "outputs": [],
   "source": [
    "import numpy as np\n",
    "import tensorflow as tf\n",
    "import random as python_random\n",
    "\n",
    "def set_seed(seed_value):\n",
    "    np.random.seed(seed_value)\n",
    "    tf.random.set_seed(seed_value)\n",
    "    python_random.seed(seed_value)"
   ]
  },
  {
   "cell_type": "code",
   "execution_count": 24,
   "id": "8f474c27",
   "metadata": {},
   "outputs": [
    {
     "name": "stdout",
     "output_type": "stream",
     "text": [
      "Epoch 1/5\n",
      "35/35 [==============================] - 0s 3ms/step - loss: 0.6867 - accuracy: 0.5514 - val_loss: 0.6641 - val_accuracy: 0.7582\n",
      "Epoch 2/5\n",
      "35/35 [==============================] - 0s 2ms/step - loss: 0.5344 - accuracy: 0.7944 - val_loss: 0.4229 - val_accuracy: 0.8218\n",
      "Epoch 3/5\n",
      "35/35 [==============================] - 0s 2ms/step - loss: 0.2591 - accuracy: 0.8940 - val_loss: 0.4750 - val_accuracy: 0.8182\n",
      "Epoch 4/5\n",
      "35/35 [==============================] - 0s 2ms/step - loss: 0.1740 - accuracy: 0.9322 - val_loss: 0.5157 - val_accuracy: 0.8109\n",
      "Epoch 5/5\n",
      "35/35 [==============================] - 0s 2ms/step - loss: 0.1287 - accuracy: 0.9531 - val_loss: 0.5913 - val_accuracy: 0.8164\n",
      "18/18 [==============================] - 0s 712us/step - loss: 0.5913 - accuracy: 0.8164\n",
      "\n",
      "\n",
      "Accuracy: 0.8163636326789856\n"
     ]
    }
   ],
   "source": [
    "# Simple Neural Network Model\n",
    "from keras.models import Sequential\n",
    "from keras.layers import Dense, Dropout\n",
    "\n",
    "set_seed(42)\n",
    "\n",
    "model = Sequential()\n",
    "model.add(Dense(512, activation='relu', input_dim=X_train_selected.shape[1]))\n",
    "model.add(Dropout(0.5))\n",
    "model.add(Dense(256, activation='relu'))\n",
    "model.add(Dropout(0.5))\n",
    "model.add(Dense(128, activation='relu'))\n",
    "model.add(Dropout(0.5))\n",
    "model.add(Dense(1, activation='sigmoid'))\n",
    "\n",
    "model.compile(optimizer='adam', loss='binary_crossentropy', metrics=['accuracy'])\n",
    "\n",
    "# Fit the model with early stopping callback\n",
    "history = model.fit(X_train_selected, y_train, epochs=5, batch_size=64, validation_data=(X_test_selected, y_test))\n",
    "loss, accuracy = model.evaluate(X_test_selected, y_test)\n",
    "print('\\n')\n",
    "print('Accuracy:', accuracy)"
   ]
  },
  {
   "cell_type": "code",
   "execution_count": 25,
   "id": "c732617f",
   "metadata": {},
   "outputs": [
    {
     "data": {
      "image/png": "[encoded data removed]",
      "text/plain": [
       "<Figure size 1000x400 with 2 Axes>"
      ]
     },
     "metadata": {},
     "output_type": "display_data"
    }
   ],
   "source": [
    "import matplotlib.pyplot as plt\n",
    "\n",
    "# Plotting training and validation loss\n",
    "plt.figure(figsize=(10, 4))\n",
    "plt.subplot(1, 2, 1)\n",
    "plt.plot(history.history['loss'], label='Training Loss')\n",
    "plt.plot(history.history['val_loss'], label='Validation Loss')\n",
    "plt.title('Training and Validation Loss')\n",
    "plt.xlabel('Epochs')\n",
    "plt.ylabel('Loss')\n",
    "plt.legend()\n",
    "\n",
    "# Plotting training and validation accuracy\n",
    "plt.subplot(1, 2, 2)\n",
    "plt.plot(history.history['accuracy'], label='Training Accuracy')\n",
    "plt.plot(history.history['val_accuracy'], label='Validation Accuracy')\n",
    "plt.title('Training and Validation Accuracy')\n",
    "plt.xlabel('Epochs')\n",
    "plt.ylabel('Accuracy')\n",
    "plt.legend()\n",
    "\n",
    "plt.tight_layout()\n",
    "plt.show()"
   ]
  },
  {
   "cell_type": "code",
   "execution_count": 26,
   "id": "88391114",
   "metadata": {},
   "outputs": [
    {
     "name": "stdout",
     "output_type": "stream",
     "text": [
      "Epoch 1/10\n",
      "35/35 [==============================] - 0s 4ms/step - loss: 0.6867 - accuracy: 0.5514 - val_loss: 0.6641 - val_accuracy: 0.7582\n",
      "Epoch 2/10\n",
      "35/35 [==============================] - 0s 2ms/step - loss: 0.5344 - accuracy: 0.7944 - val_loss: 0.4229 - val_accuracy: 0.8218\n",
      "Epoch 3/10\n",
      "35/35 [==============================] - 0s 2ms/step - loss: 0.2591 - accuracy: 0.8940 - val_loss: 0.4750 - val_accuracy: 0.8182\n",
      "Epoch 4/10\n",
      "35/35 [==============================] - 0s 2ms/step - loss: 0.1740 - accuracy: 0.9322 - val_loss: 0.5157 - val_accuracy: 0.8109\n",
      "18/18 [==============================] - 0s 640us/step - loss: 0.4229 - accuracy: 0.8218\n",
      "\n",
      "\n",
      "Accuracy: 0.8218181729316711\n"
     ]
    }
   ],
   "source": [
    "from keras.callbacks import EarlyStopping\n",
    "\n",
    "set_seed(42)\n",
    "\n",
    "model = Sequential()\n",
    "model.add(Dense(512, activation='relu', input_dim=X_train_selected.shape[1]))\n",
    "model.add(Dropout(0.5))\n",
    "model.add(Dense(256, activation='relu'))\n",
    "model.add(Dropout(0.5))\n",
    "model.add(Dense(128, activation='relu'))\n",
    "model.add(Dropout(0.5))\n",
    "model.add(Dense(1, activation='sigmoid'))\n",
    "\n",
    "model.compile(optimizer='adam', loss='binary_crossentropy', metrics=['accuracy'])\n",
    "# Define early stopping callback\n",
    "early_stopping = EarlyStopping(monitor='val_loss', patience=2, restore_best_weights=True)\n",
    "\n",
    "# Fit the model with early stopping callback\n",
    "history = model.fit(X_train_selected, y_train, epochs=10, batch_size=64, validation_data=(X_test_selected, y_test), callbacks=[early_stopping])\n",
    "loss, accuracy = model.evaluate(X_test_selected, y_test)\n",
    "print('\\n')\n",
    "print('Accuracy:', accuracy)"
   ]
  },
  {
   "cell_type": "code",
   "execution_count": null,
   "id": "7270a1d9",
   "metadata": {},
   "outputs": [],
   "source": []
  }
 ],
 "metadata": {
  "kernelspec": {
   "display_name": "Python 3 (ipykernel)",
   "language": "python",
   "name": "python3"
  },
  "language_info": {
   "codemirror_mode": {
    "name": "ipython",
    "version": 3
   },
   "file_extension": ".py",
   "mimetype": "text/x-python",
   "name": "python",
   "nbconvert_exporter": "python",
   "pygments_lexer": "ipython3",
   "version": "3.11.5"
  }
 },
 "nbformat": 4,
 "nbformat_minor": 5
}
